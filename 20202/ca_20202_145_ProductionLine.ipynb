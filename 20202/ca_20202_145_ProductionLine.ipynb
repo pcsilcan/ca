{
  "nbformat": 4,
  "nbformat_minor": 0,
  "metadata": {
    "kernelspec": {
      "display_name": "Python 3",
      "language": "python",
      "name": "python3"
    },
    "language_info": {
      "codemirror_mode": {
        "name": "ipython",
        "version": 3
      },
      "file_extension": ".py",
      "mimetype": "text/x-python",
      "name": "python",
      "nbconvert_exporter": "python",
      "pygments_lexer": "ipython3",
      "version": "3.6.5"
    },
    "colab": {
      "name": "2.4-ProductionLine.ipynb",
      "provenance": [],
      "include_colab_link": true
    }
  },
  "cells": [
    {
      "cell_type": "markdown",
      "metadata": {
        "id": "view-in-github",
        "colab_type": "text"
      },
      "source": [
        "<a href=\"https://colab.research.google.com/github/pcsilcan/ca/blob/master/20202/ca_20202_145_ProductionLine.ipynb\" target=\"_parent\"><img src=\"https://colab.research.google.com/assets/colab-badge.svg\" alt=\"Open In Colab\"/></a>"
      ]
    },
    {
      "cell_type": "markdown",
      "metadata": {
        "id": "z3CWhve1DH7c"
      },
      "source": [
        "## Production line"
      ]
    },
    {
      "cell_type": "code",
      "metadata": {
        "id": "T_uHAqDnDH7c"
      },
      "source": [
        "def fastestWay(a, t, e, x):\n",
        "    n = len(a[0])\n",
        "    f1 = [0]*n\n",
        "    f2 = [0]*n\n",
        "    l1 = [0]*n\n",
        "    l2 = [0]*n\n",
        "    f1[0] = e[0] + a[0][0]\n",
        "    f2[0] = e[1] + a[0][1]\n",
        "    for j in range(1, n):\n",
        "        if f1[j - 1] + a[0][j] <= f2[j - 1] + t[1][j - 1] + a[0][j]:\n",
        "            f1[j] = f1[j - 1] + a[0][j]\n",
        "            l1[j] = 1\n",
        "        else:\n",
        "            f1[j] = f2[j - 1] + t[1][j - 1] + a[0][j]\n",
        "            l1[j] = 2\n",
        "        if f2[j - 1] + a[1][j] <= f1[j - 1] + t[0][j - 1] + a[1][j]:\n",
        "            f2[j] = f2[j - 1] + a[1][j]\n",
        "            l2[j] = 2\n",
        "        else:\n",
        "            f2[j] = f1[j - 1] + t[0][j - 1] + a[1][j]\n",
        "            l2[j] = 1\n",
        "    if f1[n-1] + x[0] <= f2[n-1] + x[1]:\n",
        "        f_star = f1[n-1] + x[0]\n",
        "        l_star = 1\n",
        "    else:\n",
        "        f_star = f2[n-1] + x[1]\n",
        "        l_star = 2\n",
        "    return l1, l2, l_star"
      ],
      "execution_count": 1,
      "outputs": []
    },
    {
      "cell_type": "code",
      "metadata": {
        "id": "PWlG7SE5DH7d"
      },
      "source": [
        "def printStations(l1, l2, l_star):\n",
        "    n = len(l1)\n",
        "    i = l_star\n",
        "    print(\"Linea %d, estación %d\"%(i, n - 1))\n",
        "    for j in reversed(range(1, n)):\n",
        "        if i == 0:\n",
        "            i = l1[j]\n",
        "        else:\n",
        "            i = l2[j]\n",
        "        print(\"Linea %d, estación %d\"%(i, j - 1))"
      ],
      "execution_count": null,
      "outputs": []
    },
    {
      "cell_type": "code",
      "metadata": {
        "id": "w1tvcWOgDH7d",
        "outputId": "6772aaaf-93f7-4033-9b51-54e4756440aa"
      },
      "source": [
        "l1, l2, l_star = fastestWay(\n",
        "    [[7, 9, 3, 4, 8, 4], [8, 5, 6, 4, 5, 7]],\n",
        "    [[2, 3, 1, 3, 4], [2, 1, 2, 2, 1]],\n",
        "    [2, 4], [3, 2])\n",
        "printStations(l1, l2, l_star)"
      ],
      "execution_count": null,
      "outputs": [
        {
          "output_type": "stream",
          "text": [
            "Linea 1, estación 5\n",
            "Linea 2, estación 4\n",
            "Linea 2, estación 3\n",
            "Linea 1, estación 2\n",
            "Linea 2, estación 1\n",
            "Linea 1, estación 0\n"
          ],
          "name": "stdout"
        }
      ]
    }
  ]
}