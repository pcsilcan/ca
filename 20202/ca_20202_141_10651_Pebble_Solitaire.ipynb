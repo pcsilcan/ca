{
  "nbformat": 4,
  "nbformat_minor": 0,
  "metadata": {
    "colab": {
      "name": "ca 20202 141 10651 - Pebble Solitaire.ipynb",
      "provenance": [],
      "collapsed_sections": [],
      "authorship_tag": "ABX9TyNl4OMQRy1iz6VtcQBCbymq",
      "include_colab_link": true
    },
    "kernelspec": {
      "name": "python3",
      "display_name": "Python 3"
    }
  },
  "cells": [
    {
      "cell_type": "markdown",
      "metadata": {
        "id": "view-in-github",
        "colab_type": "text"
      },
      "source": [
        "<a href=\"https://colab.research.google.com/github/pcsilcan/ca/blob/master/20202/ca_20202_141_10651_Pebble_Solitaire.ipynb\" target=\"_parent\"><img src=\"https://colab.research.google.com/assets/colab-badge.svg\" alt=\"Open In Colab\"/></a>"
      ]
    },
    {
      "cell_type": "markdown",
      "metadata": {
        "id": "Kqk6k18r1zEu"
      },
      "source": [
        "# [10651 - Pebble Solitaire](https://onlinejudge.org/index.php?option=com_onlinejudge&Itemid=8&category=114&page=show_problem&problem=1592)"
      ]
    },
    {
      "cell_type": "code",
      "metadata": {
        "colab": {
          "base_uri": "https://localhost:8080/"
        },
        "id": "AM1Ku4op1o_a",
        "outputId": "ac1cb47e-b868-47c5-d085-260bf4a3d739"
      },
      "source": [
        "%%file 1.in\n",
        "5\n",
        "---oo-------\n",
        "-o--o-oo----\n",
        "-o----ooo---\n",
        "oooooooooooo\n",
        "oooooooooo-o"
      ],
      "execution_count": 2,
      "outputs": [
        {
          "output_type": "stream",
          "text": [
            "Overwriting 1.in\n"
          ],
          "name": "stdout"
        }
      ]
    },
    {
      "cell_type": "code",
      "metadata": {
        "colab": {
          "base_uri": "https://localhost:8080/"
        },
        "id": "gnjIkhqX19Kc",
        "outputId": "6c29f8d4-0beb-4f54-a8d6-849f595943ad"
      },
      "source": [
        "%%file 1.py\n",
        "\n",
        "numpebs = 12\n",
        "size = (1<<numpebs)\n",
        "table = [-1]*size\n",
        "\n",
        "def pebble(num, i):\n",
        "    return (num & (1 << i)) > 0\n",
        "\n",
        "def countPebbles(num):\n",
        "    s = 0\n",
        "    while num > 0:\n",
        "        s += num & 1\n",
        "        num = num >> 1\n",
        "    return s\n",
        "\n",
        "def solve(num):\n",
        "    if table[num] == -1:\n",
        "        table[num] = countPebbles(num)\n",
        "        for i in range(2, numpebs):\n",
        "            if pebble(num, i) and pebble(num, i-1) and not pebble(num, i-2):\n",
        "                newNum = num ^ (1 << i) ^ (1 << (i-1)) ^ (1 << (i-2))\n",
        "                table[num] = min(table[num], solve(newNum))\n",
        "        for i in range(numpebs - 3, -1, -1):\n",
        "            if pebble(num, i) and pebble(num, i+1) and not pebble(num, i+2):\n",
        "                newNum = num ^ (1 << i) ^ (1 << (i+1)) ^ (1 << (i+2))\n",
        "                table[num] = min(table[num], solve(newNum))\n",
        "    return table[num]\n",
        "\n",
        "n = int(input())\n",
        "while n > 0:\n",
        "    n -= 1\n",
        "    board = input()\n",
        "    num = 0\n",
        "    for c in board:\n",
        "        num = (num << 1) + (1 if c == 'o' else 0)\n",
        "    print(solve(num))"
      ],
      "execution_count": 5,
      "outputs": [
        {
          "output_type": "stream",
          "text": [
            "Overwriting 1.py\n"
          ],
          "name": "stdout"
        }
      ]
    },
    {
      "cell_type": "code",
      "metadata": {
        "colab": {
          "base_uri": "https://localhost:8080/"
        },
        "id": "1CrvyQz12TaQ",
        "outputId": "5abe9a1e-e04b-46d0-aa4d-b88d5649f4d7"
      },
      "source": [
        "!python 1.py < 1.in"
      ],
      "execution_count": 6,
      "outputs": [
        {
          "output_type": "stream",
          "text": [
            "1\n",
            "2\n",
            "3\n",
            "12\n",
            "1\n"
          ],
          "name": "stdout"
        }
      ]
    },
    {
      "cell_type": "code",
      "metadata": {
        "id": "SoGMecBC2WPc"
      },
      "source": [
        ""
      ],
      "execution_count": null,
      "outputs": []
    }
  ]
}