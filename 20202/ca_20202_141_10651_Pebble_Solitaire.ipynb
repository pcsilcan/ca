{
  "nbformat": 4,
  "nbformat_minor": 0,
  "metadata": {
    "colab": {
      "name": "ca 20202 141 10651 - Pebble Solitaire.ipynb",
      "provenance": [],
      "collapsed_sections": [],
      "authorship_tag": "ABX9TyMIql2fZ9H/67VJ/B/qeqs0",
      "include_colab_link": true
    },
    "kernelspec": {
      "name": "python3",
      "display_name": "Python 3"
    }
  },
  "cells": [
    {
      "cell_type": "markdown",
      "metadata": {
        "id": "view-in-github",
        "colab_type": "text"
      },
      "source": [
        "<a href=\"https://colab.research.google.com/github/pcsilcan/ca/blob/master/20202/ca_20202_141_10651_Pebble_Solitaire.ipynb\" target=\"_parent\"><img src=\"https://colab.research.google.com/assets/colab-badge.svg\" alt=\"Open In Colab\"/></a>"
      ]
    },
    {
      "cell_type": "markdown",
      "metadata": {
        "id": "Kqk6k18r1zEu"
      },
      "source": [
        "# [10651 - Pebble Solitaire](https://onlinejudge.org/index.php?option=com_onlinejudge&Itemid=8&category=114&page=show_problem&problem=1592)"
      ]
    },
    {
      "cell_type": "code",
      "metadata": {
        "colab": {
          "base_uri": "https://localhost:8080/"
        },
        "id": "AM1Ku4op1o_a",
        "outputId": "8cdd6a2d-6779-483b-9439-8024d9812a36"
      },
      "source": [
        "%%file 1.in\n",
        "5\n",
        "---oo-------\n",
        "-o--o-oo----\n",
        "-o----ooo---\n",
        "oooooooooooo\n",
        "oooooooooo-o"
      ],
      "execution_count": 19,
      "outputs": [
        {
          "output_type": "stream",
          "text": [
            "Writing 1.in\n"
          ],
          "name": "stdout"
        }
      ]
    },
    {
      "cell_type": "code",
      "metadata": {
        "colab": {
          "base_uri": "https://localhost:8080/"
        },
        "id": "gnjIkhqX19Kc",
        "outputId": "ad07f264-71a9-46d7-8cbb-8989306913b5"
      },
      "source": [
        "%%file 1.py\n",
        "\n",
        "numpebs = 12\n",
        "size = (1<<numpebs)\n",
        "table = [-1]*size\n",
        "\n",
        "def pebble(board, i):\n",
        "    return (board & (1 << i)) > 0\n",
        "\n",
        "def countPebbles(board):\n",
        "    s = 0\n",
        "    while board > 0:\n",
        "        s += board & 1\n",
        "        board = board >> 1\n",
        "    return s\n",
        "\n",
        "def solve(board):\n",
        "    if table[board] == -1:\n",
        "        table[board] = countPebbles(board)\n",
        "        for i in range(2, numpebs):\n",
        "            if pebble(board, i) and pebble(board, i-1) and not pebble(board, i-2):\n",
        "                newboard = board ^ (1 << i) ^ (1 << (i-1)) ^ (1 << (i-2))\n",
        "                table[board] = min(table[board], solve(newboard))\n",
        "        for i in range(numpebs - 3, -1, -1):\n",
        "            if pebble(board, i) and pebble(board, i+1) and not pebble(board, i+2):\n",
        "                newboard = board ^ (1 << i) ^ (1 << (i+1)) ^ (1 << (i+2))\n",
        "                table[board] = min(table[board], solve(newboard))\n",
        "    return table[board]\n",
        "\n",
        "n = int(input())\n",
        "for _ in range(n):\n",
        "    strBoard = input()\n",
        "    board = 0\n",
        "    for c in strBoard:\n",
        "        board = (board << 1) + (1 if c == 'o' else 0)\n",
        "    print(solve(board))"
      ],
      "execution_count": 33,
      "outputs": [
        {
          "output_type": "stream",
          "text": [
            "Overwriting 1.py\n"
          ],
          "name": "stdout"
        }
      ]
    },
    {
      "cell_type": "code",
      "metadata": {
        "colab": {
          "base_uri": "https://localhost:8080/"
        },
        "id": "1CrvyQz12TaQ",
        "outputId": "5abe9a1e-e04b-46d0-aa4d-b88d5649f4d7"
      },
      "source": [
        "!python 1.py < 1.in"
      ],
      "execution_count": null,
      "outputs": [
        {
          "output_type": "stream",
          "text": [
            "1\n",
            "2\n",
            "3\n",
            "12\n",
            "1\n"
          ],
          "name": "stdout"
        }
      ]
    },
    {
      "cell_type": "code",
      "metadata": {
        "colab": {
          "base_uri": "https://localhost:8080/"
        },
        "id": "MI7XTWBmzC1a",
        "outputId": "a162ba3b-00a3-474c-a7d2-1ab6acef7477"
      },
      "source": [
        "n = 10\n",
        "print(\"{0:016b}\".format(n), n)\n",
        "n = n << 1\n",
        "print(\"{0:016b}\".format(n), n)\n",
        "n = n << 3\n",
        "print(\"{0:016b}\".format(n), n)\n",
        "n = n >> 2\n",
        "print(\"{0:016b}\".format(n), n)\n",
        "print(n & (1 << 5) > 0)\n",
        "print(n & (1 << 6) > 0)\n",
        "print(n | (1 << 6) > 0)\n",
        "print(\"{0:016b}\".format(n^(n<<1)), n)"
      ],
      "execution_count": 13,
      "outputs": [
        {
          "output_type": "stream",
          "text": [
            "0000000000001010 10\n",
            "0000000000010100 20\n",
            "0000000010100000 160\n",
            "0000000000101000 40\n",
            "True\n",
            "False\n",
            "True\n",
            "0000000001111000 40\n"
          ],
          "name": "stdout"
        }
      ]
    },
    {
      "cell_type": "code",
      "metadata": {
        "id": "SoGMecBC2WPc",
        "colab": {
          "base_uri": "https://localhost:8080/"
        },
        "outputId": "c3fad7d3-25ee-4db2-9c02-2c9b654625a3"
      },
      "source": [
        "n = 0b000110101010\n",
        "print(\"{0:016b}\".format(n), n)\n",
        "n = n ^ (1 << 7)\n",
        "print(\"{0:016b}\".format(n), n)\n",
        "n = n ^ (1 << 8)\n",
        "print(\"{0:016b}\".format(n), n)\n",
        "n = n ^ (1 << 9)\n",
        "print(\"{0:016b}\".format(n), n)"
      ],
      "execution_count": 16,
      "outputs": [
        {
          "output_type": "stream",
          "text": [
            "0000000110101010 426\n",
            "0000000100101010 298\n",
            "0000000000101010 42\n",
            "0000001000101010 554\n"
          ],
          "name": "stdout"
        }
      ]
    },
    {
      "cell_type": "code",
      "metadata": {
        "colab": {
          "base_uri": "https://localhost:8080/"
        },
        "id": "IEJBTKhw3Tbn",
        "outputId": "eb325fea-8878-4b41-c75d-86d5f1e0869a"
      },
      "source": [
        "%%file 2.py\n",
        "\n",
        "numpebs = 12\n",
        "table = {}\n",
        "\n",
        "def solve(board):\n",
        "    hash = ''.join([\"1\" if v else \"0\" for v in board])\n",
        "    if hash not in table:\n",
        "        table[hash] = sum(board)\n",
        "        for i in range(2, numpebs):\n",
        "            if board[i] and board[i-1] and not board[i-2]:\n",
        "                board[i-2], board[i-1], board[i] = True, False, False\n",
        "                table[hash] = min(table[hash], solve(board))\n",
        "        for i in range(numpebs - 3, -1, -1):\n",
        "            if board[i] and board[i+1] and not board[i+2]:\n",
        "                board[i], board[i+1], board[i+2] = False, False, True\n",
        "                table[hash] = min(table[hash], solve(board))\n",
        "    return table[hash]\n",
        "\n",
        "n = int(input())\n",
        "for _ in range(n):\n",
        "    print(solve([c == 'o' for c in input().strip()]))"
      ],
      "execution_count": 32,
      "outputs": [
        {
          "output_type": "stream",
          "text": [
            "Overwriting 2.py\n"
          ],
          "name": "stdout"
        }
      ]
    },
    {
      "cell_type": "code",
      "metadata": {
        "id": "hFnW8etR59lv"
      },
      "source": [
        "!python 2.py < 1.in"
      ],
      "execution_count": 27,
      "outputs": []
    },
    {
      "cell_type": "code",
      "metadata": {
        "colab": {
          "base_uri": "https://localhost:8080/"
        },
        "id": "ZAxMdYMA5_RN",
        "outputId": "2e593983-63ea-41b7-e2d7-0d2d0779f0b8"
      },
      "source": [
        "%timeit !python 2.py < 1.in"
      ],
      "execution_count": 34,
      "outputs": [
        {
          "output_type": "stream",
          "text": [
            "10 loops, best of 3: 113 ms per loop\n"
          ],
          "name": "stdout"
        }
      ]
    },
    {
      "cell_type": "code",
      "metadata": {
        "colab": {
          "base_uri": "https://localhost:8080/"
        },
        "id": "WQ2ECsTz7Of1",
        "outputId": "65ace821-41c2-4dfc-eef9-cef17797f2e4"
      },
      "source": [
        "%timeit !python 1.py < 1.in"
      ],
      "execution_count": 35,
      "outputs": [
        {
          "output_type": "stream",
          "text": [
            "10 loops, best of 3: 113 ms per loop\n"
          ],
          "name": "stdout"
        }
      ]
    },
    {
      "cell_type": "code",
      "metadata": {
        "id": "m8STG_SX7Ra8"
      },
      "source": [
        ""
      ],
      "execution_count": null,
      "outputs": []
    }
  ]
}