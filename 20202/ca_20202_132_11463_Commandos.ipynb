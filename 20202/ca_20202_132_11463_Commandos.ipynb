{
  "nbformat": 4,
  "nbformat_minor": 0,
  "metadata": {
    "colab": {
      "name": "ca 20202 132 11463 - Commandos.ipynb",
      "provenance": [],
      "authorship_tag": "ABX9TyODyMDz4V3EgIyeIsH7V2uz",
      "include_colab_link": true
    },
    "kernelspec": {
      "name": "python3",
      "display_name": "Python 3"
    }
  },
  "cells": [
    {
      "cell_type": "markdown",
      "metadata": {
        "id": "view-in-github",
        "colab_type": "text"
      },
      "source": [
        "<a href=\"https://colab.research.google.com/github/pcsilcan/ca/blob/master/20202/ca_20202_132_11463_Commandos.ipynb\" target=\"_parent\"><img src=\"https://colab.research.google.com/assets/colab-badge.svg\" alt=\"Open In Colab\"/></a>"
      ]
    },
    {
      "cell_type": "markdown",
      "metadata": {
        "id": "ChEqToV_ZhXN"
      },
      "source": [
        "# [11463 - Commandos](https://onlinejudge.org/index.php?option=onlinejudge&Itemid=8&category=383&page=show_problem&problem=2458)"
      ]
    },
    {
      "cell_type": "code",
      "metadata": {
        "id": "FMLhtWA-Vl-3",
        "outputId": "e6c50117-4248-4483-9b1b-16d69ce57ead",
        "colab": {
          "base_uri": "https://localhost:8080/"
        }
      },
      "source": [
        "%%writefile 1.in\n",
        "2\n",
        "4\n",
        "3\n",
        "0 1\n",
        "2 1\n",
        "1 3\n",
        "0 3\n",
        "2\n",
        "1\n",
        "0 1\n",
        "1 1"
      ],
      "execution_count": 5,
      "outputs": [
        {
          "output_type": "stream",
          "text": [
            "Overwriting 1.in\n"
          ],
          "name": "stdout"
        }
      ]
    },
    {
      "cell_type": "code",
      "metadata": {
        "id": "6rcUadJWTYv4",
        "outputId": "a71b354a-2b1d-4ca7-86f8-5040bb1c851d",
        "colab": {
          "base_uri": "https://localhost:8080/"
        }
      },
      "source": [
        "%%writefile 1.py\n",
        "import math\n",
        "\n",
        "def initMultpleSource(G):\n",
        "    n = len(G)\n",
        "    dist = [[math.inf if i!=j and G[i][j] == 0\n",
        "             else G[i][j] \n",
        "             for j in range(n)]\n",
        "            for i in range(n)]\n",
        "    path = [[None if G[i][j] == 0\n",
        "             else i\n",
        "             for j in range(n)]\n",
        "            for i in range(n)]\n",
        "    return dist, path\n",
        "\n",
        "def relax(i, k, j, dist, path):\n",
        "    W = dist[i][k] + dist[k][j]\n",
        "    if dist[i][j] > W:\n",
        "        dist[i][j] = W\n",
        "        path[i][j] = path[k][j]\n",
        "\n",
        "def floydWarshall(G):\n",
        "    n = len(G)\n",
        "    dist, path = initMultpleSource(G)\n",
        "    for k in range(n):\n",
        "        for i in range(n):\n",
        "            for j in range(n):\n",
        "                if i != j and j != k and k != i:\n",
        "                    relax(i, k, j, dist, path)\n",
        "\n",
        "    return dist, path\n",
        "\n",
        "def inInt():\n",
        "    return int(input())\n",
        "\n",
        "def ints():\n",
        "    return [int(x) for x in input().strip().split()]\n",
        "\n",
        "T = inInt()\n",
        "for t in range(1, T + 1):\n",
        "    N = inInt()\n",
        "    R = inInt()\n",
        "    G = [[0]*N for _ in range(N)]\n",
        "    for _ in range(R):\n",
        "        u, v = ints()\n",
        "        G[u][v] = 1\n",
        "        G[v][u] = 1\n",
        "\n",
        "    s, d = ints()\n",
        "    dist, path = floydWarshall(G)\n",
        "\n",
        "    longest = 0\n",
        "    for v in range(N):\n",
        "        if dist[s][v]+dist[v][d] > longest:\n",
        "            longest = dist[s][v]+dist[v][d]\n",
        "\n",
        "    print(f'Case {t}: {longest}')"
      ],
      "execution_count": 9,
      "outputs": [
        {
          "output_type": "stream",
          "text": [
            "Overwriting 1.py\n"
          ],
          "name": "stdout"
        }
      ]
    },
    {
      "cell_type": "code",
      "metadata": {
        "id": "zCJHA8KJVtZ-",
        "outputId": "84ae7ba1-7d3d-4ed8-a4e9-86989c4c6be2",
        "colab": {
          "base_uri": "https://localhost:8080/"
        }
      },
      "source": [
        "!python 1.py < 1.in"
      ],
      "execution_count": 10,
      "outputs": [
        {
          "output_type": "stream",
          "text": [
            "Case 1: 4\n",
            "Case 2: 2\n"
          ],
          "name": "stdout"
        }
      ]
    },
    {
      "cell_type": "code",
      "metadata": {
        "id": "8n--QPnSX47c"
      },
      "source": [
        ""
      ],
      "execution_count": null,
      "outputs": []
    }
  ]
}