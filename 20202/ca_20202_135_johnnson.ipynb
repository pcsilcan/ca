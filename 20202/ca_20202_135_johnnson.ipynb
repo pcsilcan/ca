{
  "nbformat": 4,
  "nbformat_minor": 0,
  "metadata": {
    "colab": {
      "name": "ca 20202 135 johnnson.ipynb",
      "provenance": [],
      "collapsed_sections": [],
      "authorship_tag": "ABX9TyNl6LhM0453m1yhEpFuUgUf",
      "include_colab_link": true
    },
    "kernelspec": {
      "name": "python3",
      "display_name": "Python 3"
    }
  },
  "cells": [
    {
      "cell_type": "markdown",
      "metadata": {
        "id": "view-in-github",
        "colab_type": "text"
      },
      "source": [
        "<a href=\"https://colab.research.google.com/github/pcsilcan/ca/blob/master/20202/ca_20202_135_johnnson.ipynb\" target=\"_parent\"><img src=\"https://colab.research.google.com/assets/colab-badge.svg\" alt=\"Open In Colab\"/></a>"
      ]
    },
    {
      "cell_type": "markdown",
      "metadata": {
        "id": "cWAx58ihkVU3"
      },
      "source": [
        "# Johnnson's algorithm"
      ]
    },
    {
      "cell_type": "code",
      "metadata": {
        "id": "pzLCgZHTm5_z"
      },
      "source": [
        "import math\n",
        "import heapq as hq"
      ],
      "execution_count": 33,
      "outputs": []
    },
    {
      "cell_type": "code",
      "metadata": {
        "id": "CxmGtaMJlcuA"
      },
      "source": [
        "def initSingleSource(G, s):\n",
        "    n = len(G)\n",
        "    dist = [math.inf]*n\n",
        "    path = [-1]*n\n",
        "    dist[s] = 0\n",
        "\n",
        "    return dist, path"
      ],
      "execution_count": 34,
      "outputs": []
    },
    {
      "cell_type": "code",
      "metadata": {
        "id": "FxJWjqDtlj37"
      },
      "source": [
        "def relax(u, v, w, dist, path):\n",
        "    f = dist[u] + w\n",
        "    if dist[v] > f:\n",
        "        dist[v] = f\n",
        "        path[v] = u\n",
        "        return True\n",
        "    return False"
      ],
      "execution_count": 35,
      "outputs": []
    },
    {
      "cell_type": "code",
      "metadata": {
        "id": "yAPjLwdSkrZC"
      },
      "source": [
        "def bellmanFord(G, s):\n",
        "    n = len(G)\n",
        "    dist, path = initSingleSource(G, s)\n",
        "    for _ in range(n-1):\n",
        "        for u in range(n):\n",
        "            for v, w in G[u]:\n",
        "                relax(u, v, w, dist, path)\n",
        "\n",
        "    for u in range(n):\n",
        "        for v, w in G[u]:\n",
        "            if dist[u] + w < dist[v]:\n",
        "                return None, None, False\n",
        "\n",
        "    return dist, path, True"
      ],
      "execution_count": 36,
      "outputs": []
    },
    {
      "cell_type": "code",
      "metadata": {
        "id": "jUUpl8JHllZN"
      },
      "source": [
        "def dijkstra(G, s):\n",
        "    n = len(G)\n",
        "    dist, path = initSingleSource(G, s)\n",
        "    visited = [False]*n\n",
        "    queue = []\n",
        "    hq.heappush(queue, (0, s))\n",
        "    while len(queue) > 0:\n",
        "        _, u = hq.heappop(queue)\n",
        "        if visited[u]: continue\n",
        "        visited[u] = True\n",
        "        for v, w in G[u]:\n",
        "            if visited[v]: continue\n",
        "            if relax(u, v, w, dist, path):\n",
        "                hq.heappush(queue, (dist[u]+w, v))\n",
        "\n",
        "    return dist, path"
      ],
      "execution_count": 37,
      "outputs": []
    },
    {
      "cell_type": "code",
      "metadata": {
        "id": "1vcrI5ERkT2g"
      },
      "source": [
        "def johnny(G):\n",
        "    n = len(G)\n",
        "    h, _, ok = bellmanFord(G, n-1)\n",
        "    if not ok:\n",
        "        return None\n",
        "    Gprime = [[(v, e - h[v] + h[u]) for v, e in G[u]] for u in range(n)]\n",
        "\n",
        "    path = [None]*n\n",
        "    for u in range(n):\n",
        "        _, path[u] = dijkstra(Gprime, u)\n",
        "\n",
        "    return path"
      ],
      "execution_count": 38,
      "outputs": []
    },
    {
      "cell_type": "code",
      "metadata": {
        "id": "ermwk116m1zs"
      },
      "source": [
        "G = [[(1, 3), (2, 6)],\n",
        "     [(2, 4), (3, 5)],\n",
        "     [(3, 2),],\n",
        "     [(0, -7), (1, -3)]]"
      ],
      "execution_count": 39,
      "outputs": []
    },
    {
      "cell_type": "code",
      "metadata": {
        "id": "QAb0Jfldm2ja",
        "outputId": "128cc45d-7c2e-46c7-fa84-dcf45d3d6627",
        "colab": {
          "base_uri": "https://localhost:8080/"
        }
      },
      "source": [
        "johnny(G)"
      ],
      "execution_count": 40,
      "outputs": [
        {
          "output_type": "execute_result",
          "data": {
            "text/plain": [
              "[[-1, 0, 0, 1], [3, -1, 1, 1], [3, 0, -1, 2], [3, 0, 0, -1]]"
            ]
          },
          "metadata": {
            "tags": []
          },
          "execution_count": 40
        }
      ]
    },
    {
      "cell_type": "code",
      "metadata": {
        "id": "0SBZbf30m31r"
      },
      "source": [
        ""
      ],
      "execution_count": null,
      "outputs": []
    }
  ]
}