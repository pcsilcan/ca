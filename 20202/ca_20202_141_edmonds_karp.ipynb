{
  "nbformat": 4,
  "nbformat_minor": 0,
  "metadata": {
    "colab": {
      "name": "ca 20202 141 edmonds karp.ipynb",
      "provenance": [],
      "authorship_tag": "ABX9TyNYkypLbZjPurS3PDYf9URJ",
      "include_colab_link": true
    },
    "kernelspec": {
      "name": "python3",
      "display_name": "Python 3"
    }
  },
  "cells": [
    {
      "cell_type": "markdown",
      "metadata": {
        "id": "view-in-github",
        "colab_type": "text"
      },
      "source": [
        "<a href=\"https://colab.research.google.com/github/pcsilcan/ca/blob/master/20202/ca_20202_141_edmonds_karp.ipynb\" target=\"_parent\"><img src=\"https://colab.research.google.com/assets/colab-badge.svg\" alt=\"Open In Colab\"/></a>"
      ]
    },
    {
      "cell_type": "code",
      "metadata": {
        "id": "ge3MwHHh6TRb"
      },
      "source": [
        "import math\n",
        "from queue import Queue\n",
        "\n",
        "def bfs(G, s, t):\n",
        "    n = len(G)\n",
        "    visited = [False]*n\n",
        "    path = [-1]*n\n",
        "    bottleneck = math.inf\n",
        "    Q = Queue()\n",
        "    Q.put(s)\n",
        "    visited[s] = True\n",
        "    while not Q.empty():\n",
        "        u = Q.get()\n",
        "        if u == t: break\n",
        "        for v in range(n):\n",
        "            if G[u][v] > 0 and not visited[v]:\n",
        "                visited[v] = True\n",
        "                Q.put(v)\n",
        "                path[v] = u\n",
        "                bottleneck = G[u][v] if G[u][v] < bottleneck else bottleneck\n",
        "\n",
        "    return path, bottleneck, path[t] != -1\n",
        "\n",
        "def edmondKarp(G, s, t):\n",
        "    n = len(G)\n",
        "    Gp = [[G[u][v] for v in range(n)] for u in range(n)]\n",
        "    maxflow = 0\n",
        "    while True:\n",
        "        path, bottleneck, existsPath = bfs(Gp, s, t)\n",
        "        if not existsPath: break\n",
        "        maxflow += bottleneck\n",
        "        end = t\n",
        "        while path[end] != -1:\n",
        "            u, v = path[end], end\n",
        "            Gp[u][v] -= bottleneck\n",
        "            Gp[v][u] += bottleneck\n",
        "            end = path[end]\n",
        "\n",
        "    return maxflow"
      ],
      "execution_count": null,
      "outputs": []
    },
    {
      "cell_type": "code",
      "metadata": {
        "id": "N5Yb7o6P-I4B"
      },
      "source": [
        "V = [ 'S', 'T', 'u', 'v', 'w', 'z' ]\n",
        "G = [[  0,   0,  16,   0,  13,   0], # S\n",
        "     [  0,   0,   0,   0,   0,   0], # T\n",
        "     [  0,   0,   0,  12,   0,   0], # u\n",
        "     [  0,  20,   0,   0,   9,   0], # v\n",
        "     [  0,   0,   4,   0,   0,  14], # w\n",
        "     [  0,   4,   0,   7,   0,   0]] # z"
      ],
      "execution_count": null,
      "outputs": []
    },
    {
      "cell_type": "code",
      "metadata": {
        "colab": {
          "base_uri": "https://localhost:8080/"
        },
        "id": "JmoWBgFp_rXw",
        "outputId": "b414887a-6f6d-463f-8d9f-b1473240069c"
      },
      "source": [
        "edmondKarp(G, 0, 1)"
      ],
      "execution_count": null,
      "outputs": [
        {
          "output_type": "execute_result",
          "data": {
            "text/plain": [
              "23"
            ]
          },
          "metadata": {
            "tags": []
          },
          "execution_count": 27
        }
      ]
    },
    {
      "cell_type": "code",
      "metadata": {
        "id": "bvCvqhXz_veQ"
      },
      "source": [
        ""
      ],
      "execution_count": null,
      "outputs": []
    }
  ]
}