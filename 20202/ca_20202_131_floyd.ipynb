{
  "nbformat": 4,
  "nbformat_minor": 0,
  "metadata": {
    "colab": {
      "name": "ca 20202 131 floyd.ipynb",
      "provenance": [],
      "authorship_tag": "ABX9TyOt4phsrF1iDuwYTBkohY2r",
      "include_colab_link": true
    },
    "kernelspec": {
      "name": "python3",
      "display_name": "Python 3"
    }
  },
  "cells": [
    {
      "cell_type": "markdown",
      "metadata": {
        "id": "view-in-github",
        "colab_type": "text"
      },
      "source": [
        "<a href=\"https://colab.research.google.com/github/pcsilcan/ca/blob/master/20202/ca_20202_131_floyd.ipynb\" target=\"_parent\"><img src=\"https://colab.research.google.com/assets/colab-badge.svg\" alt=\"Open In Colab\"/></a>"
      ]
    },
    {
      "cell_type": "markdown",
      "metadata": {
        "id": "JM_jMHwfGtDU"
      },
      "source": [
        "# Floyd Warshall"
      ]
    },
    {
      "cell_type": "code",
      "metadata": {
        "id": "xtXDSN0vHvAu"
      },
      "source": [
        "import math"
      ],
      "execution_count": 1,
      "outputs": []
    },
    {
      "cell_type": "code",
      "metadata": {
        "id": "iVIYVzuzG7DT"
      },
      "source": [
        "def initMultpleSource(G):\n",
        "    n = len(G)\n",
        "    dist = [[math.inf if i!=j and G[i][j] == 0\n",
        "             else G[i][j] \n",
        "             for j in range(n)]\n",
        "            for i in range(n)]\n",
        "    path = [[-1 if G[i][j] == 0\n",
        "             else i\n",
        "             for j in range(n)]\n",
        "            for i in range(n)]\n",
        "    return dist, path"
      ],
      "execution_count": 7,
      "outputs": []
    },
    {
      "cell_type": "code",
      "metadata": {
        "id": "dm7StsYvKCSn"
      },
      "source": [
        "def relax(i, k, j, dist, path):\n",
        "    W = dist[i][k] + dist[k][j]\n",
        "    if dist[i][j] > W:\n",
        "        dist[i][j] = W\n",
        "        path[i][j] = path[k][j]        "
      ],
      "execution_count": 3,
      "outputs": []
    },
    {
      "cell_type": "code",
      "metadata": {
        "id": "C6PMCJrCGqaq"
      },
      "source": [
        "def floydWarshall(G):\n",
        "    n = len(G)\n",
        "    dist, path = initMultpleSource(G)\n",
        "    for k in range(n):\n",
        "        for i in range(n):\n",
        "            for j in range(n):\n",
        "                if i != k and k != j and j != i:\n",
        "                    relax(i, k, j, dist, path)\n",
        "\n",
        "    return dist, path"
      ],
      "execution_count": 4,
      "outputs": []
    },
    {
      "cell_type": "code",
      "metadata": {
        "id": "bCaGMoYVIryi"
      },
      "source": [
        "G = [[ 0,  3,  8,  0, -4],\n",
        "     [ 0,  0,  0,  1,  7],\n",
        "     [ 0,  4,  0,  0,  0],\n",
        "     [ 2,  0, -5,  0,  0],\n",
        "     [ 0,  0,  0,  6,  0]]"
      ],
      "execution_count": 5,
      "outputs": []
    },
    {
      "cell_type": "code",
      "metadata": {
        "id": "_d7IDfClKtwf",
        "outputId": "6eeb2600-60d9-42bb-d7da-6c81a1b3c8ba",
        "colab": {
          "base_uri": "https://localhost:8080/"
        }
      },
      "source": [
        "import numpy as np\n",
        "\n",
        "d, p = floydWarshall(G)\n",
        "print(np.array(d))\n",
        "print(np.array(p))"
      ],
      "execution_count": 8,
      "outputs": [
        {
          "output_type": "stream",
          "text": [
            "[[ 0  1 -3  2 -4]\n",
            " [ 3  0 -4  1 -1]\n",
            " [ 7  4  0  5  3]\n",
            " [ 2 -1 -5  0 -2]\n",
            " [ 8  5  1  6  0]]\n",
            "[[-1  2  3  4  0]\n",
            " [ 3 -1  3  1  0]\n",
            " [ 3  2 -1  1  0]\n",
            " [ 3  2  3 -1  0]\n",
            " [ 3  2  3  4 -1]]\n"
          ],
          "name": "stdout"
        }
      ]
    },
    {
      "cell_type": "code",
      "metadata": {
        "id": "1C9hclFfK2v0"
      },
      "source": [
        ""
      ],
      "execution_count": null,
      "outputs": []
    }
  ]
}