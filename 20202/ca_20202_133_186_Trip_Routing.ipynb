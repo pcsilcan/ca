{
  "nbformat": 4,
  "nbformat_minor": 0,
  "metadata": {
    "colab": {
      "name": "ca 20202 133 186 - Trip Routing.ipynb",
      "provenance": [],
      "collapsed_sections": [],
      "authorship_tag": "ABX9TyOS7hXl1AJO35LnztIRuukt",
      "include_colab_link": true
    },
    "kernelspec": {
      "name": "python3",
      "display_name": "Python 3"
    }
  },
  "cells": [
    {
      "cell_type": "markdown",
      "metadata": {
        "id": "view-in-github",
        "colab_type": "text"
      },
      "source": [
        "<a href=\"https://colab.research.google.com/github/pcsilcan/ca/blob/master/20202/ca_20202_133_186_Trip_Routing.ipynb\" target=\"_parent\"><img src=\"https://colab.research.google.com/assets/colab-badge.svg\" alt=\"Open In Colab\"/></a>"
      ]
    },
    {
      "cell_type": "markdown",
      "metadata": {
        "id": "gJpOk4avDFlV"
      },
      "source": [
        "# [186 - Trip Routing](https://onlinejudge.org/index.php?option=onlinejudge&Itemid=8&category=383&page=show_problem&problem=122)"
      ]
    },
    {
      "cell_type": "code",
      "metadata": {
        "id": "4vTH-eAu9S5j",
        "outputId": "d21798c3-9422-4f4d-8e1e-e459b4699887",
        "colab": {
          "base_uri": "https://localhost:8080/"
        }
      },
      "source": [
        "%%file 1.in\n",
        "San Luis Obispo,Bakersfield,CA-58,117\n",
        "Bakersfield,Mojave,CA-58,65\n",
        "Mojave,Barstow,CA-58,70\n",
        "Barstow,Baker,I-15,62\n",
        "Baker,Las Vegas,I-15,92\n",
        "San Luis Obispo,Santa Barbara,US-101,106\n",
        "San Luis Obispo,Santa Barbara,CA-1,113\n",
        "Santa Barbara,Los Angeles,US-101,95\n",
        "Bakersfield,Wheeler Ridge,CA-99,24\n",
        "Wheeler Ridge,Los Angeles,I-5,88\n",
        "Mojave,Los Angeles,CA-14,94\n",
        "Los Angeles,San Bernardino,I-10,65\n",
        "San Bernardino,Barstow,I-15,73\n",
        "Los Angeles,San Diego,I-5,121\n",
        "San Bernardino,San Diego,I-15,103\n",
        "\n",
        "Santa Barbara,Las Vegas\n",
        "San Diego,Los Angeles\n",
        "San Luis Obispo,Los Angeles"
      ],
      "execution_count": 49,
      "outputs": [
        {
          "output_type": "stream",
          "text": [
            "Overwriting 1.in\n"
          ],
          "name": "stdout"
        }
      ]
    },
    {
      "cell_type": "code",
      "metadata": {
        "id": "eQmcHG4g9aJ5",
        "outputId": "27b4cf8b-28e5-4dc2-c0a1-9c0621cd54ac",
        "colab": {
          "base_uri": "https://localhost:8080/"
        }
      },
      "source": [
        "%%file 1.py\n",
        "from sys import stdin\n",
        "import math\n",
        "\n",
        "def initMultpleSource(G):\n",
        "    n = len(G)\n",
        "    dist = [[math.inf if i!=j and G[i][j] == 0\n",
        "             else G[i][j] \n",
        "             for j in range(n)]\n",
        "            for i in range(n)]\n",
        "    path = [[-1 if G[i][j] == 0\n",
        "             else i\n",
        "             for j in range(n)]\n",
        "            for i in range(n)]\n",
        "    return dist, path\n",
        "\n",
        "def relax(i, k, j, dist, path):\n",
        "    W = dist[i][k] + dist[k][j]\n",
        "    if dist[i][j] > W:\n",
        "        dist[i][j] = W\n",
        "        path[i][j] = path[k][j]\n",
        "\n",
        "def floydWarshall(G):\n",
        "    n = len(G)\n",
        "    dist, path = initMultpleSource(G)\n",
        "    for k in range(n):\n",
        "        for i in range(n):\n",
        "            for j in range(n):\n",
        "                if i != j and j != k and k != i:\n",
        "                    relax(i, k, j, dist, path)\n",
        "\n",
        "    return dist, path\n",
        "\n",
        "num2city = set()\n",
        "data = []\n",
        "\n",
        "for line in stdin:\n",
        "    if line == '\\n': break\n",
        "    data.append(line.strip().split(','))\n",
        "    num2city.add(data[-1][0])\n",
        "    num2city.add(data[-1][1])\n",
        "\n",
        "num2city = list(num2city) # TODO optimize this!!\n",
        "city2num = {v: i for i, v in enumerate(num2city)}\n",
        "\n",
        "n = len(num2city)\n",
        "\n",
        "G = [[0]*n for _ in range(n)]\n",
        "Routes = [[\"\"]*n for _ in range(n)]\n",
        "for datum in data:\n",
        "    u = city2num[datum[0]]\n",
        "    v = city2num[datum[1]]\n",
        "    route = datum[2]\n",
        "    w = int(datum[3].strip())\n",
        "    if G[u][v] == 0 or G[u][v] > w:\n",
        "        G[u][v] = w\n",
        "        G[v][u] = w\n",
        "        Routes[u][v] = route\n",
        "        Routes[v][u] = route\n",
        "\n",
        "dist, path = floydWarshall(G)\n",
        "\n",
        "for line in stdin:\n",
        "    departure, destination = line.strip().split(',')\n",
        "    i = city2num[departure]\n",
        "    j = city2num[destination]\n",
        "    route = [j]\n",
        "    t = path[i][j]\n",
        "    while t != -1:\n",
        "        route.append(t)\n",
        "        t = path[i][t]\n",
        "\n",
        "    print()\n",
        "    print()\n",
        "    print(\"From                 To                   Route      Miles\")\n",
        "    print(\"-------------------- -------------------- ---------- -----\")\n",
        "\n",
        "    for k in range(len(route) - 1, 0, -1):\n",
        "        print(\"%-20s %-20s %-10s %5d\"%(\n",
        "            num2city[route[k]],\n",
        "            num2city[route[k-1]],\n",
        "            Routes[route[k]][route[k-1]],\n",
        "            G[route[k]][route[k-1]]))\n",
        "        \n",
        "    print(\"                                                     -----\")\n",
        "    print(\"                                          Total%11d\"%dist[i][j])"
      ],
      "execution_count": 50,
      "outputs": [
        {
          "output_type": "stream",
          "text": [
            "Overwriting 1.py\n"
          ],
          "name": "stdout"
        }
      ]
    },
    {
      "cell_type": "code",
      "metadata": {
        "id": "dWxEBJWM97K5",
        "outputId": "a099efea-7406-4e72-cc1f-3ff7ca72006c",
        "colab": {
          "base_uri": "https://localhost:8080/"
        }
      },
      "source": [
        "!python 1.py < 1.in"
      ],
      "execution_count": 51,
      "outputs": [
        {
          "output_type": "stream",
          "text": [
            "\n",
            "\n",
            "From                 To                   Route      Miles\n",
            "-------------------- -------------------- ---------- -----\n",
            "Santa Barbara        Los Angeles          US-101        95\n",
            "Los Angeles          San Bernardino       I-10          65\n",
            "San Bernardino       Barstow              I-15          73\n",
            "Barstow              Baker                I-15          62\n",
            "Baker                Las Vegas            I-15          92\n",
            "                                                     -----\n",
            "                                          Total        387\n",
            "\n",
            "\n",
            "From                 To                   Route      Miles\n",
            "-------------------- -------------------- ---------- -----\n",
            "San Diego            Los Angeles          I-5          121\n",
            "                                                     -----\n",
            "                                          Total        121\n",
            "\n",
            "\n",
            "From                 To                   Route      Miles\n",
            "-------------------- -------------------- ---------- -----\n",
            "San Luis Obispo      Santa Barbara        US-101       106\n",
            "Santa Barbara        Los Angeles          US-101        95\n",
            "                                                     -----\n",
            "                                          Total        201\n"
          ],
          "name": "stdout"
        }
      ]
    },
    {
      "cell_type": "code",
      "metadata": {
        "id": "ebITs0R19_o3"
      },
      "source": [
        ""
      ],
      "execution_count": null,
      "outputs": []
    }
  ]
}