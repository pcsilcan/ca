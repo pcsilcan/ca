{
  "nbformat": 4,
  "nbformat_minor": 0,
  "metadata": {
    "colab": {
      "name": "ca 20202 141 ford fulkerson.ipynb",
      "provenance": [],
      "authorship_tag": "ABX9TyPx/sNWVwq6G7/6p5uEnWyS",
      "include_colab_link": true
    },
    "kernelspec": {
      "name": "python3",
      "display_name": "Python 3"
    }
  },
  "cells": [
    {
      "cell_type": "markdown",
      "metadata": {
        "id": "view-in-github",
        "colab_type": "text"
      },
      "source": [
        "<a href=\"https://colab.research.google.com/github/pcsilcan/ca/blob/master/20202/ca_20202_141_ford_fulkerson.ipynb\" target=\"_parent\"><img src=\"https://colab.research.google.com/assets/colab-badge.svg\" alt=\"Open In Colab\"/></a>"
      ]
    },
    {
      "cell_type": "code",
      "metadata": {
        "id": "ge3MwHHh6TRb"
      },
      "source": [
        "import math\n",
        "\n",
        "def dfs(G, s, t):\n",
        "    n = len(G)\n",
        "    visited = [False]*n\n",
        "    path = [-1]*n\n",
        "    bottleneck = math.inf\n",
        "    P = []\n",
        "    P.append(s)\n",
        "    while len(P) > 0:\n",
        "        u = P.pop()\n",
        "        if u == t: break\n",
        "        if visited[u]: continue\n",
        "        visited[u] = True\n",
        "        for v in range(n):\n",
        "            if G[u][v] > 0 and not visited[v]:\n",
        "                P.append(v)\n",
        "                path[v] = u\n",
        "                bottleneck = G[u][v] if G[u][v] < bottleneck else bottleneck\n",
        "\n",
        "    return path, bottleneck, path[t] != -1\n",
        "\n",
        "def fordFulkerson(G, s, t):\n",
        "    n = len(G)\n",
        "    Gp = [[G[u][v] for v in range(n)] for u in range(n)]\n",
        "    maxflow = 0\n",
        "    while True:\n",
        "        path, bottleneck, existsPath = dfs(Gp, s, t)\n",
        "        if not existsPath: break\n",
        "        maxflow += bottleneck\n",
        "        print(path)\n",
        "        end = t\n",
        "        while path[end] != -1:\n",
        "            u, v = path[end], end\n",
        "            Gp[u][v] -= bottleneck\n",
        "            Gp[v][u] += bottleneck\n",
        "            end = path[end]\n",
        "\n",
        "    return maxflow"
      ],
      "execution_count": 7,
      "outputs": []
    },
    {
      "cell_type": "code",
      "metadata": {
        "id": "N5Yb7o6P-I4B"
      },
      "source": [
        "V = [ 'S', 'T', 'u', 'v', 'w', 'z' ]\n",
        "G = [[  0,   0,  16,   0,  13,   0], # S\n",
        "     [  0,   0,   0,   0,   0,   0], # T\n",
        "     [  0,   0,   0,  12,   0,   0], # u\n",
        "     [  0,  20,   0,   0,   9,   0], # v\n",
        "     [  0,   0,   4,   0,   0,  14], # w\n",
        "     [  0,   4,   0,   7,   0,   0]] # z"
      ],
      "execution_count": 8,
      "outputs": []
    },
    {
      "cell_type": "code",
      "metadata": {
        "colab": {
          "base_uri": "https://localhost:8080/"
        },
        "id": "JmoWBgFp_rXw",
        "outputId": "ad75175c-6904-49af-9bea-458a402e37ae"
      },
      "source": [
        "fordFulkerson(G, 0, 1)"
      ],
      "execution_count": 9,
      "outputs": [
        {
          "output_type": "stream",
          "text": [
            "[-1, 3, 4, 5, 0, 4]\n",
            "[-1, 3, 4, 5, 0, 4]\n",
            "[-1, 5, 4, -1, 0, 4]\n",
            "[-1, 3, 4, 2, 0, 4]\n",
            "[-1, 3, 0, 2, 2, 4]\n",
            "[-1, 3, 0, 2, 2, 4]\n",
            "[-1, 3, 0, 2, 2, 4]\n",
            "[-1, 3, 0, 2, 2, 4]\n",
            "[-1, 3, 0, 2, 2, 4]\n"
          ],
          "name": "stdout"
        },
        {
          "output_type": "execute_result",
          "data": {
            "text/plain": [
              "23"
            ]
          },
          "metadata": {
            "tags": []
          },
          "execution_count": 9
        }
      ]
    },
    {
      "cell_type": "code",
      "metadata": {
        "id": "bvCvqhXz_veQ",
        "colab": {
          "base_uri": "https://localhost:8080/",
          "height": 464
        },
        "outputId": "17972eee-7a9b-4062-ea6a-8c1e5945efc2"
      },
      "source": [
        "import graphviz as gv\n",
        "\n",
        "path = [-1, 3, 4, 5, 0, 4]\n",
        "\n",
        "g = gv.Digraph()\n",
        "\n",
        "for u, v in enumerate(path):\n",
        "    if v != -1:\n",
        "        g.edge(str(v), str(u))\n",
        "\n",
        "g"
      ],
      "execution_count": 13,
      "outputs": [
        {
          "output_type": "execute_result",
          "data": {
            "text/plain": [
              "<graphviz.dot.Digraph at 0x7f55a2dd5898>"
            ],
            "image/svg+xml": "<?xml version=\"1.0\" encoding=\"UTF-8\" standalone=\"no\"?>\n<!DOCTYPE svg PUBLIC \"-//W3C//DTD SVG 1.1//EN\"\n \"http://www.w3.org/Graphics/SVG/1.1/DTD/svg11.dtd\">\n<!-- Generated by graphviz version 2.40.1 (20161225.0304)\n -->\n<!-- Title: %3 Pages: 1 -->\n<svg width=\"134pt\" height=\"332pt\"\n viewBox=\"0.00 0.00 134.00 332.00\" xmlns=\"http://www.w3.org/2000/svg\" xmlns:xlink=\"http://www.w3.org/1999/xlink\">\n<g id=\"graph0\" class=\"graph\" transform=\"scale(1 1) rotate(0) translate(4 328)\">\n<title>%3</title>\n<polygon fill=\"#ffffff\" stroke=\"transparent\" points=\"-4,4 -4,-328 130,-328 130,4 -4,4\"/>\n<!-- 3 -->\n<g id=\"node1\" class=\"node\">\n<title>3</title>\n<ellipse fill=\"none\" stroke=\"#000000\" cx=\"99\" cy=\"-90\" rx=\"27\" ry=\"18\"/>\n<text text-anchor=\"middle\" x=\"99\" y=\"-86.3\" font-family=\"Times,serif\" font-size=\"14.00\" fill=\"#000000\">3</text>\n</g>\n<!-- 1 -->\n<g id=\"node2\" class=\"node\">\n<title>1</title>\n<ellipse fill=\"none\" stroke=\"#000000\" cx=\"99\" cy=\"-18\" rx=\"27\" ry=\"18\"/>\n<text text-anchor=\"middle\" x=\"99\" y=\"-14.3\" font-family=\"Times,serif\" font-size=\"14.00\" fill=\"#000000\">1</text>\n</g>\n<!-- 3&#45;&gt;1 -->\n<g id=\"edge1\" class=\"edge\">\n<title>3&#45;&gt;1</title>\n<path fill=\"none\" stroke=\"#000000\" d=\"M99,-71.8314C99,-64.131 99,-54.9743 99,-46.4166\"/>\n<polygon fill=\"#000000\" stroke=\"#000000\" points=\"102.5001,-46.4132 99,-36.4133 95.5001,-46.4133 102.5001,-46.4132\"/>\n</g>\n<!-- 4 -->\n<g id=\"node3\" class=\"node\">\n<title>4</title>\n<ellipse fill=\"none\" stroke=\"#000000\" cx=\"63\" cy=\"-234\" rx=\"27\" ry=\"18\"/>\n<text text-anchor=\"middle\" x=\"63\" y=\"-230.3\" font-family=\"Times,serif\" font-size=\"14.00\" fill=\"#000000\">4</text>\n</g>\n<!-- 2 -->\n<g id=\"node4\" class=\"node\">\n<title>2</title>\n<ellipse fill=\"none\" stroke=\"#000000\" cx=\"27\" cy=\"-162\" rx=\"27\" ry=\"18\"/>\n<text text-anchor=\"middle\" x=\"27\" y=\"-158.3\" font-family=\"Times,serif\" font-size=\"14.00\" fill=\"#000000\">2</text>\n</g>\n<!-- 4&#45;&gt;2 -->\n<g id=\"edge2\" class=\"edge\">\n<title>4&#45;&gt;2</title>\n<path fill=\"none\" stroke=\"#000000\" d=\"M54.2854,-216.5708C50.0403,-208.0807 44.8464,-197.6929 40.1337,-188.2674\"/>\n<polygon fill=\"#000000\" stroke=\"#000000\" points=\"43.237,-186.6477 35.6343,-179.2687 36.976,-189.7782 43.237,-186.6477\"/>\n</g>\n<!-- 5 -->\n<g id=\"node5\" class=\"node\">\n<title>5</title>\n<ellipse fill=\"none\" stroke=\"#000000\" cx=\"99\" cy=\"-162\" rx=\"27\" ry=\"18\"/>\n<text text-anchor=\"middle\" x=\"99\" y=\"-158.3\" font-family=\"Times,serif\" font-size=\"14.00\" fill=\"#000000\">5</text>\n</g>\n<!-- 4&#45;&gt;5 -->\n<g id=\"edge5\" class=\"edge\">\n<title>4&#45;&gt;5</title>\n<path fill=\"none\" stroke=\"#000000\" d=\"M71.7146,-216.5708C75.9597,-208.0807 81.1536,-197.6929 85.8663,-188.2674\"/>\n<polygon fill=\"#000000\" stroke=\"#000000\" points=\"89.024,-189.7782 90.3657,-179.2687 82.763,-186.6477 89.024,-189.7782\"/>\n</g>\n<!-- 5&#45;&gt;3 -->\n<g id=\"edge3\" class=\"edge\">\n<title>5&#45;&gt;3</title>\n<path fill=\"none\" stroke=\"#000000\" d=\"M99,-143.8314C99,-136.131 99,-126.9743 99,-118.4166\"/>\n<polygon fill=\"#000000\" stroke=\"#000000\" points=\"102.5001,-118.4132 99,-108.4133 95.5001,-118.4133 102.5001,-118.4132\"/>\n</g>\n<!-- 0 -->\n<g id=\"node6\" class=\"node\">\n<title>0</title>\n<ellipse fill=\"none\" stroke=\"#000000\" cx=\"63\" cy=\"-306\" rx=\"27\" ry=\"18\"/>\n<text text-anchor=\"middle\" x=\"63\" y=\"-302.3\" font-family=\"Times,serif\" font-size=\"14.00\" fill=\"#000000\">0</text>\n</g>\n<!-- 0&#45;&gt;4 -->\n<g id=\"edge4\" class=\"edge\">\n<title>0&#45;&gt;4</title>\n<path fill=\"none\" stroke=\"#000000\" d=\"M63,-287.8314C63,-280.131 63,-270.9743 63,-262.4166\"/>\n<polygon fill=\"#000000\" stroke=\"#000000\" points=\"66.5001,-262.4132 63,-252.4133 59.5001,-262.4133 66.5001,-262.4132\"/>\n</g>\n</g>\n</svg>\n"
          },
          "metadata": {
            "tags": []
          },
          "execution_count": 13
        }
      ]
    },
    {
      "cell_type": "code",
      "metadata": {
        "colab": {
          "base_uri": "https://localhost:8080/"
        },
        "id": "eBB0ZhRSjvaj",
        "outputId": "7adc8172-76c7-42bb-934b-f69810833335"
      },
      "source": [
        "end = 1\n",
        "while path[end] != -1:\n",
        "    v = end\n",
        "    u = path[end]\n",
        "    print(u, v)\n",
        "    end = path[end]\n"
      ],
      "execution_count": 15,
      "outputs": [
        {
          "output_type": "stream",
          "text": [
            "3 1\n",
            "5 3\n",
            "4 5\n",
            "0 4\n"
          ],
          "name": "stdout"
        }
      ]
    },
    {
      "cell_type": "code",
      "metadata": {
        "id": "kBYNHmiljDso"
      },
      "source": [
        ""
      ],
      "execution_count": null,
      "outputs": []
    }
  ]
}